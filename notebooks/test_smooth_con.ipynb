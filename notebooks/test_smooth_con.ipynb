{
 "cells": [
  {
   "cell_type": "code",
   "execution_count": 1,
   "metadata": {
    "execution": {
     "iopub.execute_input": "2025-06-19T10:07:39.720395Z",
     "iopub.status.busy": "2025-06-19T10:07:39.720181Z",
     "iopub.status.idle": "2025-06-19T10:07:40.728438Z",
     "shell.execute_reply": "2025-06-19T10:07:40.728105Z"
    }
   },
   "outputs": [],
   "source": [
    "import numpy as np\n",
    "\n",
    "from smoothcon import SmoothCon"
   ]
  },
  {
   "cell_type": "code",
   "execution_count": 2,
   "metadata": {
    "execution": {
     "iopub.execute_input": "2025-06-19T10:07:40.729845Z",
     "iopub.status.busy": "2025-06-19T10:07:40.729748Z",
     "iopub.status.idle": "2025-06-19T10:07:40.731660Z",
     "shell.execute_reply": "2025-06-19T10:07:40.731465Z"
    }
   },
   "outputs": [],
   "source": [
    "rng = np.random.default_rng(seed=1)\n",
    "\n",
    "n = 100\n",
    "x = rng.uniform(-2.0, 2.0, size=n)\n",
    "y = x + rng.normal(loc=0.0, scale=1.0, size=n)\n",
    "mcycle = {\"accel\": y, \"times\": x}  # imitating the MASS:mcycle dataset"
   ]
  },
  {
   "cell_type": "code",
   "execution_count": 3,
   "metadata": {
    "execution": {
     "iopub.execute_input": "2025-06-19T10:07:40.732708Z",
     "iopub.status.busy": "2025-06-19T10:07:40.732647Z",
     "iopub.status.idle": "2025-06-19T10:07:40.746300Z",
     "shell.execute_reply": "2025-06-19T10:07:40.745983Z"
    }
   },
   "outputs": [],
   "source": [
    "smooth = SmoothCon(\n",
    "    spec=\"s(times, bs='ps', k=20, m=c(3,2))\",\n",
    "    data=mcycle,\n",
    "    knots=None,\n",
    "    absorb_cons=True,\n",
    "    diagonal_penalty=True,\n",
    "    pass_to_r=None,\n",
    ")"
   ]
  },
  {
   "cell_type": "code",
   "execution_count": 4,
   "metadata": {
    "execution": {
     "iopub.execute_input": "2025-06-19T10:07:40.747493Z",
     "iopub.status.busy": "2025-06-19T10:07:40.747425Z",
     "iopub.status.idle": "2025-06-19T10:07:40.749520Z",
     "shell.execute_reply": "2025-06-19T10:07:40.749322Z"
    }
   },
   "outputs": [
    {
     "name": "stdout",
     "output_type": "stream",
     "text": [
      "[<class 'polars.dataframe.frame.DataFrame'>]\n"
     ]
    }
   ],
   "source": [
    "basis = smooth.basis\n",
    "penalty = smooth.penalty"
   ]
  },
  {
   "cell_type": "code",
   "execution_count": 5,
   "metadata": {
    "execution": {
     "iopub.execute_input": "2025-06-19T10:07:40.750499Z",
     "iopub.status.busy": "2025-06-19T10:07:40.750443Z",
     "iopub.status.idle": "2025-06-19T10:07:40.752348Z",
     "shell.execute_reply": "2025-06-19T10:07:40.752136Z"
    }
   },
   "outputs": [
    {
     "name": "stdout",
     "output_type": "stream",
     "text": [
      "[<class 'polars.dataframe.frame.DataFrame'>]\n"
     ]
    }
   ],
   "source": [
    "bases = smooth.all_bases()\n",
    "penalties = smooth.all_penalties()"
   ]
  },
  {
   "cell_type": "code",
   "execution_count": 6,
   "metadata": {
    "execution": {
     "iopub.execute_input": "2025-06-19T10:07:40.753253Z",
     "iopub.status.busy": "2025-06-19T10:07:40.753200Z",
     "iopub.status.idle": "2025-06-19T10:07:40.757183Z",
     "shell.execute_reply": "2025-06-19T10:07:40.756920Z"
    }
   },
   "outputs": [],
   "source": [
    "times_grid = np.linspace(mcycle[\"times\"].min(), mcycle[\"times\"].max(), 100)\n",
    "prediction_basis = smooth.predict({\"times\": times_grid})"
   ]
  },
  {
   "cell_type": "code",
   "execution_count": 7,
   "metadata": {
    "execution": {
     "iopub.execute_input": "2025-06-19T10:07:40.758147Z",
     "iopub.status.busy": "2025-06-19T10:07:40.758092Z",
     "iopub.status.idle": "2025-06-19T10:07:40.760964Z",
     "shell.execute_reply": "2025-06-19T10:07:40.760696Z"
    }
   },
   "outputs": [],
   "source": [
    "prediction_bases = smooth.predict_all_bases({\"times\": times_grid})"
   ]
  },
  {
   "cell_type": "code",
   "execution_count": 8,
   "metadata": {
    "execution": {
     "iopub.execute_input": "2025-06-19T10:07:40.761938Z",
     "iopub.status.busy": "2025-06-19T10:07:40.761882Z",
     "iopub.status.idle": "2025-06-19T10:07:40.767380Z",
     "shell.execute_reply": "2025-06-19T10:07:40.767185Z"
    }
   },
   "outputs": [],
   "source": [
    "smooth = SmoothCon(\n",
    "    spec=\"ti(times, accel, bs='ps')\",\n",
    "    data=mcycle,\n",
    "    knots=None,\n",
    "    absorb_cons=True,\n",
    "    diagonal_penalty=True,\n",
    "    pass_to_r=None,\n",
    ")"
   ]
  },
  {
   "cell_type": "code",
   "execution_count": 9,
   "metadata": {
    "execution": {
     "iopub.execute_input": "2025-06-19T10:07:40.768349Z",
     "iopub.status.busy": "2025-06-19T10:07:40.768294Z",
     "iopub.status.idle": "2025-06-19T10:07:40.769647Z",
     "shell.execute_reply": "2025-06-19T10:07:40.769433Z"
    }
   },
   "outputs": [],
   "source": [
    "# smooth.penalty # this will raise an error"
   ]
  },
  {
   "cell_type": "code",
   "execution_count": 10,
   "metadata": {
    "execution": {
     "iopub.execute_input": "2025-06-19T10:07:40.770574Z",
     "iopub.status.busy": "2025-06-19T10:07:40.770520Z",
     "iopub.status.idle": "2025-06-19T10:07:40.772109Z",
     "shell.execute_reply": "2025-06-19T10:07:40.771922Z"
    }
   },
   "outputs": [],
   "source": [
    "penalties = smooth.all_penalties()[0]\n",
    "S1 = penalties[0]"
   ]
  }
 ],
 "metadata": {
  "kernelspec": {
   "display_name": ".venv",
   "language": "python",
   "name": "python3"
  },
  "language_info": {
   "codemirror_mode": {
    "name": "ipython",
    "version": 3
   },
   "file_extension": ".py",
   "mimetype": "text/x-python",
   "name": "python",
   "nbconvert_exporter": "python",
   "pygments_lexer": "ipython3",
   "version": "3.13.5"
  }
 },
 "nbformat": 4,
 "nbformat_minor": 2
}
