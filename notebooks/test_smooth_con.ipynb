{
 "cells": [
  {
   "cell_type": "code",
   "execution_count": 7,
   "metadata": {},
   "outputs": [],
   "source": [
    "import numpy as np\n",
    "\n",
    "from smoothcon import SmoothCon"
   ]
  },
  {
   "cell_type": "code",
   "execution_count": 8,
   "metadata": {},
   "outputs": [],
   "source": [
    "rng = np.random.default_rng(seed=1)\n",
    "\n",
    "n = 100\n",
    "x = rng.uniform(-2.0, 2.0, size=n)\n",
    "y = x + rng.normal(loc=0.0, scale=1.0, size=n)\n",
    "mcycle = {\"accel\": y, \"times\": x}  # imitating the MASS:mcycle dataset"
   ]
  },
  {
   "cell_type": "code",
   "execution_count": 9,
   "metadata": {},
   "outputs": [],
   "source": [
    "smooth = SmoothCon(\n",
    "    spec=\"s(times, bs='ps', k=20, m=c(3,2))\",\n",
    "    data=mcycle,\n",
    "    knots=None,\n",
    "    absorb_cons=True,\n",
    "    diagonal_penalty=True,\n",
    "    pass_to_r=None,\n",
    ")"
   ]
  },
  {
   "cell_type": "code",
   "execution_count": 10,
   "metadata": {},
   "outputs": [],
   "source": [
    "basis = smooth.basis\n",
    "penalty = smooth.penalty"
   ]
  },
  {
   "cell_type": "code",
   "execution_count": 11,
   "metadata": {},
   "outputs": [],
   "source": [
    "bases = smooth.all_bases()\n",
    "penalties = smooth.all_penalties()"
   ]
  },
  {
   "cell_type": "code",
   "execution_count": 12,
   "metadata": {},
   "outputs": [],
   "source": [
    "times_grid = np.linspace(mcycle[\"times\"].min(), mcycle[\"times\"].max(), 100)\n",
    "prediction_basis = smooth.predict({\"times\": times_grid})"
   ]
  },
  {
   "cell_type": "code",
   "execution_count": 13,
   "metadata": {},
   "outputs": [],
   "source": [
    "prediction_bases = smooth.predict_all_bases({\"times\": times_grid})"
   ]
  },
  {
   "cell_type": "code",
   "execution_count": 14,
   "metadata": {},
   "outputs": [],
   "source": [
    "smooth = SmoothCon(\n",
    "    spec=\"ti(times, accel, bs='ps')\",\n",
    "    data=mcycle,\n",
    "    knots=None,\n",
    "    absorb_cons=True,\n",
    "    diagonal_penalty=True,\n",
    "    pass_to_r=None,\n",
    ")"
   ]
  },
  {
   "cell_type": "code",
   "execution_count": 15,
   "metadata": {},
   "outputs": [],
   "source": [
    "# smooth.penalty # this will raise an error"
   ]
  },
  {
   "cell_type": "code",
   "execution_count": 16,
   "metadata": {},
   "outputs": [],
   "source": [
    "penalties = smooth.all_penalties()[0]\n",
    "S1 = penalties[0]"
   ]
  }
 ],
 "metadata": {
  "kernelspec": {
   "display_name": ".venv",
   "language": "python",
   "name": "python3"
  },
  "language_info": {
   "codemirror_mode": {
    "name": "ipython",
    "version": 3
   },
   "file_extension": ".py",
   "mimetype": "text/x-python",
   "name": "python",
   "nbconvert_exporter": "python",
   "pygments_lexer": "ipython3",
   "version": "3.13.1"
  }
 },
 "nbformat": 4,
 "nbformat_minor": 2
}
